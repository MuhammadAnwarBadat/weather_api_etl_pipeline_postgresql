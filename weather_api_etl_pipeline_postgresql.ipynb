{
 "cells": [
  {
   "cell_type": "markdown",
   "id": "fc3537a5-e962-4922-966a-038a7c528e42",
   "metadata": {},
   "source": [
    "### Pipeline 1: Data from Web APIs to a Data Warehouse"
   ]
  },
  {
   "cell_type": "markdown",
   "id": "bbaeb474-9136-4896-ac6a-d07a32e53169",
   "metadata": {},
   "source": [
    "Use Case: Extract data from a public API, transform it, and load it into a data warehouse for analysis (e.g., weather data, financial data).\n"
   ]
  },
  {
   "cell_type": "markdown",
   "id": "68cc439f-2dbf-486c-b603-2f10b0f8ed52",
   "metadata": {},
   "source": [
    "#### Importing necessary libraries"
   ]
  },
  {
   "cell_type": "code",
   "execution_count": 1,
   "id": "fe56257b-bef7-4fe4-8aa3-c4aa842793fc",
   "metadata": {},
   "outputs": [],
   "source": [
    "import json\n",
    "import requests\n",
    "import pandas as pd\n",
    "from datetime import datetime\n",
    "from matplotlib import pyplot as plt\n",
    "import seaborn as sns"
   ]
  },
  {
   "cell_type": "code",
   "execution_count": 15,
   "id": "8b7e3ae4-5ed5-4e4c-a388-18df33d500b0",
   "metadata": {},
   "outputs": [],
   "source": [
    "import os\n",
    "\n",
    "def load_api_key(filepath):\n",
    "    with open(filepath, 'r') as file:\n",
    "        for line in file:\n",
    "            if line.startswith(\"OPENWEATHER_API_KEY\"):\n",
    "                key = line.strip().split('=')[1]\n",
    "                return key\n",
    "    return None\n",
    "\n",
    "# Load the API key from the config file\n",
    "api_key = load_api_key(\"config.txt\")\n",
    "\n",
    "# Use the API key in your request\n",
    "city = \"Little Rock\"\n",
    "url = f\"http://api.openweathermap.org/data/2.5/forecast?q={city}&appid={api_key}\"\n",
    "\n",
    "response = requests.get(url)\n",
    "weather_data = response.json()\n",
    "\n",
    "# print(weather_data)\n"
   ]
  },
  {
   "cell_type": "code",
   "execution_count": null,
   "id": "18132275-f6a4-4bc0-aa76-0274e97b959a",
   "metadata": {},
   "outputs": [],
   "source": [
    "# # import json\n",
    "\n",
    "# # Pretty print the JSON output\n",
    "# print(json.dumps(weather_data, indent=4))\n"
   ]
  },
  {
   "cell_type": "code",
   "execution_count": 19,
   "id": "2987855f-3ade-407a-af62-1eb976cc69d7",
   "metadata": {},
   "outputs": [],
   "source": [
    "# Create a function to convert temperature from Kelvin to Celsius\n",
    "\n",
    "def kelvin_to_celsius(temp_k):\n",
    "    return temp_k - 273.15"
   ]
  },
  {
   "cell_type": "code",
   "execution_count": 25,
   "id": "2ce0c6d9-cdc7-4157-95b6-cb80bf5724bb",
   "metadata": {},
   "outputs": [
    {
     "name": "stdout",
     "output_type": "stream",
     "text": [
      "40\n"
     ]
    }
   ],
   "source": [
    "# To check how many forecast records should be returned\n",
    "\n",
    "print(len(data['list']))  "
   ]
  },
  {
   "cell_type": "code",
   "execution_count": 21,
   "id": "21fea527-3bda-43b0-8f8b-b8e051beb566",
   "metadata": {},
   "outputs": [
    {
     "data": {
      "text/html": [
       "<div>\n",
       "<style scoped>\n",
       "    .dataframe tbody tr th:only-of-type {\n",
       "        vertical-align: middle;\n",
       "    }\n",
       "\n",
       "    .dataframe tbody tr th {\n",
       "        vertical-align: top;\n",
       "    }\n",
       "\n",
       "    .dataframe thead th {\n",
       "        text-align: right;\n",
       "    }\n",
       "</style>\n",
       "<table border=\"1\" class=\"dataframe\">\n",
       "  <thead>\n",
       "    <tr style=\"text-align: right;\">\n",
       "      <th></th>\n",
       "      <th>DateTime</th>\n",
       "      <th>Temperature</th>\n",
       "      <th>Feels Like_temp</th>\n",
       "      <th>Pressure(hPa)</th>\n",
       "      <th>Humidity_percent</th>\n",
       "      <th>Weather</th>\n",
       "      <th>Weather Description</th>\n",
       "      <th>Wind Speed</th>\n",
       "      <th>Wind Direction</th>\n",
       "      <th>Cloudiness</th>\n",
       "      <th>Rain Volume(mm)</th>\n",
       "      <th>Snow Volume(mm)</th>\n",
       "    </tr>\n",
       "  </thead>\n",
       "  <tbody>\n",
       "    <tr>\n",
       "      <th>0</th>\n",
       "      <td>2024-09-19 15:00:00</td>\n",
       "      <td>21.38</td>\n",
       "      <td>21.61</td>\n",
       "      <td>1014</td>\n",
       "      <td>78</td>\n",
       "      <td>Clear</td>\n",
       "      <td>clear sky</td>\n",
       "      <td>1.24</td>\n",
       "      <td>118</td>\n",
       "      <td>0</td>\n",
       "      <td>0.00</td>\n",
       "      <td>0</td>\n",
       "    </tr>\n",
       "    <tr>\n",
       "      <th>1</th>\n",
       "      <td>2024-09-19 18:00:00</td>\n",
       "      <td>27.48</td>\n",
       "      <td>28.53</td>\n",
       "      <td>1014</td>\n",
       "      <td>58</td>\n",
       "      <td>Clear</td>\n",
       "      <td>clear sky</td>\n",
       "      <td>0.74</td>\n",
       "      <td>139</td>\n",
       "      <td>0</td>\n",
       "      <td>0.00</td>\n",
       "      <td>0</td>\n",
       "    </tr>\n",
       "    <tr>\n",
       "      <th>2</th>\n",
       "      <td>2024-09-19 21:00:00</td>\n",
       "      <td>32.26</td>\n",
       "      <td>32.66</td>\n",
       "      <td>1012</td>\n",
       "      <td>40</td>\n",
       "      <td>Clear</td>\n",
       "      <td>clear sky</td>\n",
       "      <td>1.45</td>\n",
       "      <td>115</td>\n",
       "      <td>0</td>\n",
       "      <td>0.00</td>\n",
       "      <td>0</td>\n",
       "    </tr>\n",
       "    <tr>\n",
       "      <th>3</th>\n",
       "      <td>2024-09-20 00:00:00</td>\n",
       "      <td>27.03</td>\n",
       "      <td>27.98</td>\n",
       "      <td>1011</td>\n",
       "      <td>58</td>\n",
       "      <td>Clear</td>\n",
       "      <td>clear sky</td>\n",
       "      <td>2.78</td>\n",
       "      <td>114</td>\n",
       "      <td>0</td>\n",
       "      <td>0.00</td>\n",
       "      <td>0</td>\n",
       "    </tr>\n",
       "    <tr>\n",
       "      <th>4</th>\n",
       "      <td>2024-09-20 03:00:00</td>\n",
       "      <td>24.15</td>\n",
       "      <td>24.32</td>\n",
       "      <td>1011</td>\n",
       "      <td>65</td>\n",
       "      <td>Clear</td>\n",
       "      <td>clear sky</td>\n",
       "      <td>2.50</td>\n",
       "      <td>116</td>\n",
       "      <td>0</td>\n",
       "      <td>0.00</td>\n",
       "      <td>0</td>\n",
       "    </tr>\n",
       "    <tr>\n",
       "      <th>5</th>\n",
       "      <td>2024-09-20 06:00:00</td>\n",
       "      <td>22.38</td>\n",
       "      <td>22.55</td>\n",
       "      <td>1012</td>\n",
       "      <td>72</td>\n",
       "      <td>Clear</td>\n",
       "      <td>clear sky</td>\n",
       "      <td>1.93</td>\n",
       "      <td>149</td>\n",
       "      <td>1</td>\n",
       "      <td>0.00</td>\n",
       "      <td>0</td>\n",
       "    </tr>\n",
       "    <tr>\n",
       "      <th>6</th>\n",
       "      <td>2024-09-20 09:00:00</td>\n",
       "      <td>21.57</td>\n",
       "      <td>21.69</td>\n",
       "      <td>1012</td>\n",
       "      <td>73</td>\n",
       "      <td>Clouds</td>\n",
       "      <td>few clouds</td>\n",
       "      <td>1.22</td>\n",
       "      <td>202</td>\n",
       "      <td>20</td>\n",
       "      <td>0.00</td>\n",
       "      <td>0</td>\n",
       "    </tr>\n",
       "    <tr>\n",
       "      <th>7</th>\n",
       "      <td>2024-09-20 12:00:00</td>\n",
       "      <td>21.09</td>\n",
       "      <td>21.16</td>\n",
       "      <td>1013</td>\n",
       "      <td>73</td>\n",
       "      <td>Clouds</td>\n",
       "      <td>few clouds</td>\n",
       "      <td>1.42</td>\n",
       "      <td>203</td>\n",
       "      <td>13</td>\n",
       "      <td>0.00</td>\n",
       "      <td>0</td>\n",
       "    </tr>\n",
       "    <tr>\n",
       "      <th>8</th>\n",
       "      <td>2024-09-20 15:00:00</td>\n",
       "      <td>27.56</td>\n",
       "      <td>28.21</td>\n",
       "      <td>1014</td>\n",
       "      <td>53</td>\n",
       "      <td>Clouds</td>\n",
       "      <td>few clouds</td>\n",
       "      <td>2.04</td>\n",
       "      <td>196</td>\n",
       "      <td>23</td>\n",
       "      <td>0.00</td>\n",
       "      <td>0</td>\n",
       "    </tr>\n",
       "    <tr>\n",
       "      <th>9</th>\n",
       "      <td>2024-09-20 18:00:00</td>\n",
       "      <td>33.22</td>\n",
       "      <td>34.59</td>\n",
       "      <td>1012</td>\n",
       "      <td>42</td>\n",
       "      <td>Clouds</td>\n",
       "      <td>few clouds</td>\n",
       "      <td>1.78</td>\n",
       "      <td>194</td>\n",
       "      <td>15</td>\n",
       "      <td>0.00</td>\n",
       "      <td>0</td>\n",
       "    </tr>\n",
       "    <tr>\n",
       "      <th>10</th>\n",
       "      <td>2024-09-20 21:00:00</td>\n",
       "      <td>34.72</td>\n",
       "      <td>36.15</td>\n",
       "      <td>1010</td>\n",
       "      <td>38</td>\n",
       "      <td>Clouds</td>\n",
       "      <td>scattered clouds</td>\n",
       "      <td>1.96</td>\n",
       "      <td>139</td>\n",
       "      <td>44</td>\n",
       "      <td>0.00</td>\n",
       "      <td>0</td>\n",
       "    </tr>\n",
       "    <tr>\n",
       "      <th>11</th>\n",
       "      <td>2024-09-21 00:00:00</td>\n",
       "      <td>29.30</td>\n",
       "      <td>30.76</td>\n",
       "      <td>1010</td>\n",
       "      <td>55</td>\n",
       "      <td>Clouds</td>\n",
       "      <td>broken clouds</td>\n",
       "      <td>3.03</td>\n",
       "      <td>123</td>\n",
       "      <td>56</td>\n",
       "      <td>0.00</td>\n",
       "      <td>0</td>\n",
       "    </tr>\n",
       "    <tr>\n",
       "      <th>12</th>\n",
       "      <td>2024-09-21 03:00:00</td>\n",
       "      <td>26.14</td>\n",
       "      <td>26.14</td>\n",
       "      <td>1012</td>\n",
       "      <td>59</td>\n",
       "      <td>Clouds</td>\n",
       "      <td>overcast clouds</td>\n",
       "      <td>2.00</td>\n",
       "      <td>153</td>\n",
       "      <td>94</td>\n",
       "      <td>0.00</td>\n",
       "      <td>0</td>\n",
       "    </tr>\n",
       "    <tr>\n",
       "      <th>13</th>\n",
       "      <td>2024-09-21 06:00:00</td>\n",
       "      <td>24.41</td>\n",
       "      <td>24.50</td>\n",
       "      <td>1012</td>\n",
       "      <td>61</td>\n",
       "      <td>Clouds</td>\n",
       "      <td>broken clouds</td>\n",
       "      <td>2.38</td>\n",
       "      <td>172</td>\n",
       "      <td>58</td>\n",
       "      <td>0.00</td>\n",
       "      <td>0</td>\n",
       "    </tr>\n",
       "    <tr>\n",
       "      <th>14</th>\n",
       "      <td>2024-09-21 09:00:00</td>\n",
       "      <td>23.15</td>\n",
       "      <td>23.24</td>\n",
       "      <td>1012</td>\n",
       "      <td>66</td>\n",
       "      <td>Clouds</td>\n",
       "      <td>broken clouds</td>\n",
       "      <td>2.20</td>\n",
       "      <td>203</td>\n",
       "      <td>77</td>\n",
       "      <td>0.00</td>\n",
       "      <td>0</td>\n",
       "    </tr>\n",
       "    <tr>\n",
       "      <th>15</th>\n",
       "      <td>2024-09-21 12:00:00</td>\n",
       "      <td>22.35</td>\n",
       "      <td>22.47</td>\n",
       "      <td>1013</td>\n",
       "      <td>70</td>\n",
       "      <td>Clouds</td>\n",
       "      <td>broken clouds</td>\n",
       "      <td>1.83</td>\n",
       "      <td>200</td>\n",
       "      <td>74</td>\n",
       "      <td>0.00</td>\n",
       "      <td>0</td>\n",
       "    </tr>\n",
       "    <tr>\n",
       "      <th>16</th>\n",
       "      <td>2024-09-21 15:00:00</td>\n",
       "      <td>27.38</td>\n",
       "      <td>28.24</td>\n",
       "      <td>1015</td>\n",
       "      <td>56</td>\n",
       "      <td>Clouds</td>\n",
       "      <td>overcast clouds</td>\n",
       "      <td>0.43</td>\n",
       "      <td>189</td>\n",
       "      <td>99</td>\n",
       "      <td>0.00</td>\n",
       "      <td>0</td>\n",
       "    </tr>\n",
       "    <tr>\n",
       "      <th>17</th>\n",
       "      <td>2024-09-21 18:00:00</td>\n",
       "      <td>32.53</td>\n",
       "      <td>33.26</td>\n",
       "      <td>1014</td>\n",
       "      <td>41</td>\n",
       "      <td>Clouds</td>\n",
       "      <td>broken clouds</td>\n",
       "      <td>2.23</td>\n",
       "      <td>123</td>\n",
       "      <td>76</td>\n",
       "      <td>0.00</td>\n",
       "      <td>0</td>\n",
       "    </tr>\n",
       "    <tr>\n",
       "      <th>18</th>\n",
       "      <td>2024-09-21 21:00:00</td>\n",
       "      <td>33.81</td>\n",
       "      <td>34.63</td>\n",
       "      <td>1012</td>\n",
       "      <td>38</td>\n",
       "      <td>Clouds</td>\n",
       "      <td>scattered clouds</td>\n",
       "      <td>2.88</td>\n",
       "      <td>93</td>\n",
       "      <td>26</td>\n",
       "      <td>0.00</td>\n",
       "      <td>0</td>\n",
       "    </tr>\n",
       "    <tr>\n",
       "      <th>19</th>\n",
       "      <td>2024-09-22 00:00:00</td>\n",
       "      <td>27.69</td>\n",
       "      <td>29.41</td>\n",
       "      <td>1012</td>\n",
       "      <td>64</td>\n",
       "      <td>Clouds</td>\n",
       "      <td>broken clouds</td>\n",
       "      <td>3.24</td>\n",
       "      <td>62</td>\n",
       "      <td>63</td>\n",
       "      <td>0.00</td>\n",
       "      <td>0</td>\n",
       "    </tr>\n",
       "    <tr>\n",
       "      <th>20</th>\n",
       "      <td>2024-09-22 03:00:00</td>\n",
       "      <td>25.70</td>\n",
       "      <td>26.13</td>\n",
       "      <td>1012</td>\n",
       "      <td>69</td>\n",
       "      <td>Clouds</td>\n",
       "      <td>broken clouds</td>\n",
       "      <td>1.95</td>\n",
       "      <td>143</td>\n",
       "      <td>66</td>\n",
       "      <td>0.00</td>\n",
       "      <td>0</td>\n",
       "    </tr>\n",
       "    <tr>\n",
       "      <th>21</th>\n",
       "      <td>2024-09-22 06:00:00</td>\n",
       "      <td>24.12</td>\n",
       "      <td>24.34</td>\n",
       "      <td>1012</td>\n",
       "      <td>67</td>\n",
       "      <td>Clouds</td>\n",
       "      <td>broken clouds</td>\n",
       "      <td>1.22</td>\n",
       "      <td>174</td>\n",
       "      <td>55</td>\n",
       "      <td>0.00</td>\n",
       "      <td>0</td>\n",
       "    </tr>\n",
       "    <tr>\n",
       "      <th>22</th>\n",
       "      <td>2024-09-22 09:00:00</td>\n",
       "      <td>23.19</td>\n",
       "      <td>23.42</td>\n",
       "      <td>1013</td>\n",
       "      <td>71</td>\n",
       "      <td>Clouds</td>\n",
       "      <td>scattered clouds</td>\n",
       "      <td>1.60</td>\n",
       "      <td>203</td>\n",
       "      <td>27</td>\n",
       "      <td>0.00</td>\n",
       "      <td>0</td>\n",
       "    </tr>\n",
       "    <tr>\n",
       "      <th>23</th>\n",
       "      <td>2024-09-22 12:00:00</td>\n",
       "      <td>22.53</td>\n",
       "      <td>22.74</td>\n",
       "      <td>1013</td>\n",
       "      <td>73</td>\n",
       "      <td>Clouds</td>\n",
       "      <td>scattered clouds</td>\n",
       "      <td>2.07</td>\n",
       "      <td>203</td>\n",
       "      <td>47</td>\n",
       "      <td>0.00</td>\n",
       "      <td>0</td>\n",
       "    </tr>\n",
       "    <tr>\n",
       "      <th>24</th>\n",
       "      <td>2024-09-22 15:00:00</td>\n",
       "      <td>27.33</td>\n",
       "      <td>28.43</td>\n",
       "      <td>1014</td>\n",
       "      <td>59</td>\n",
       "      <td>Clouds</td>\n",
       "      <td>overcast clouds</td>\n",
       "      <td>3.43</td>\n",
       "      <td>231</td>\n",
       "      <td>100</td>\n",
       "      <td>0.00</td>\n",
       "      <td>0</td>\n",
       "    </tr>\n",
       "    <tr>\n",
       "      <th>25</th>\n",
       "      <td>2024-09-22 18:00:00</td>\n",
       "      <td>32.68</td>\n",
       "      <td>33.09</td>\n",
       "      <td>1013</td>\n",
       "      <td>39</td>\n",
       "      <td>Clouds</td>\n",
       "      <td>overcast clouds</td>\n",
       "      <td>3.33</td>\n",
       "      <td>226</td>\n",
       "      <td>100</td>\n",
       "      <td>0.00</td>\n",
       "      <td>0</td>\n",
       "    </tr>\n",
       "    <tr>\n",
       "      <th>26</th>\n",
       "      <td>2024-09-22 21:00:00</td>\n",
       "      <td>34.32</td>\n",
       "      <td>34.31</td>\n",
       "      <td>1011</td>\n",
       "      <td>33</td>\n",
       "      <td>Clouds</td>\n",
       "      <td>broken clouds</td>\n",
       "      <td>3.02</td>\n",
       "      <td>209</td>\n",
       "      <td>76</td>\n",
       "      <td>0.00</td>\n",
       "      <td>0</td>\n",
       "    </tr>\n",
       "    <tr>\n",
       "      <th>27</th>\n",
       "      <td>2024-09-23 00:00:00</td>\n",
       "      <td>29.13</td>\n",
       "      <td>29.47</td>\n",
       "      <td>1010</td>\n",
       "      <td>47</td>\n",
       "      <td>Clouds</td>\n",
       "      <td>broken clouds</td>\n",
       "      <td>1.69</td>\n",
       "      <td>177</td>\n",
       "      <td>67</td>\n",
       "      <td>0.00</td>\n",
       "      <td>0</td>\n",
       "    </tr>\n",
       "    <tr>\n",
       "      <th>28</th>\n",
       "      <td>2024-09-23 03:00:00</td>\n",
       "      <td>27.61</td>\n",
       "      <td>28.03</td>\n",
       "      <td>1011</td>\n",
       "      <td>50</td>\n",
       "      <td>Clouds</td>\n",
       "      <td>overcast clouds</td>\n",
       "      <td>2.10</td>\n",
       "      <td>176</td>\n",
       "      <td>92</td>\n",
       "      <td>0.00</td>\n",
       "      <td>0</td>\n",
       "    </tr>\n",
       "    <tr>\n",
       "      <th>29</th>\n",
       "      <td>2024-09-23 06:00:00</td>\n",
       "      <td>26.48</td>\n",
       "      <td>26.48</td>\n",
       "      <td>1011</td>\n",
       "      <td>55</td>\n",
       "      <td>Clouds</td>\n",
       "      <td>broken clouds</td>\n",
       "      <td>3.25</td>\n",
       "      <td>205</td>\n",
       "      <td>65</td>\n",
       "      <td>0.00</td>\n",
       "      <td>0</td>\n",
       "    </tr>\n",
       "    <tr>\n",
       "      <th>30</th>\n",
       "      <td>2024-09-23 09:00:00</td>\n",
       "      <td>23.73</td>\n",
       "      <td>23.86</td>\n",
       "      <td>1011</td>\n",
       "      <td>65</td>\n",
       "      <td>Clouds</td>\n",
       "      <td>scattered clouds</td>\n",
       "      <td>3.01</td>\n",
       "      <td>206</td>\n",
       "      <td>35</td>\n",
       "      <td>0.00</td>\n",
       "      <td>0</td>\n",
       "    </tr>\n",
       "    <tr>\n",
       "      <th>31</th>\n",
       "      <td>2024-09-23 12:00:00</td>\n",
       "      <td>23.62</td>\n",
       "      <td>23.76</td>\n",
       "      <td>1012</td>\n",
       "      <td>66</td>\n",
       "      <td>Clouds</td>\n",
       "      <td>broken clouds</td>\n",
       "      <td>3.45</td>\n",
       "      <td>232</td>\n",
       "      <td>67</td>\n",
       "      <td>0.00</td>\n",
       "      <td>0</td>\n",
       "    </tr>\n",
       "    <tr>\n",
       "      <th>32</th>\n",
       "      <td>2024-09-23 15:00:00</td>\n",
       "      <td>28.12</td>\n",
       "      <td>29.18</td>\n",
       "      <td>1013</td>\n",
       "      <td>56</td>\n",
       "      <td>Clouds</td>\n",
       "      <td>overcast clouds</td>\n",
       "      <td>4.22</td>\n",
       "      <td>231</td>\n",
       "      <td>100</td>\n",
       "      <td>0.00</td>\n",
       "      <td>0</td>\n",
       "    </tr>\n",
       "    <tr>\n",
       "      <th>33</th>\n",
       "      <td>2024-09-23 18:00:00</td>\n",
       "      <td>33.40</td>\n",
       "      <td>33.56</td>\n",
       "      <td>1011</td>\n",
       "      <td>36</td>\n",
       "      <td>Clouds</td>\n",
       "      <td>broken clouds</td>\n",
       "      <td>4.57</td>\n",
       "      <td>222</td>\n",
       "      <td>67</td>\n",
       "      <td>0.00</td>\n",
       "      <td>0</td>\n",
       "    </tr>\n",
       "    <tr>\n",
       "      <th>34</th>\n",
       "      <td>2024-09-23 21:00:00</td>\n",
       "      <td>34.56</td>\n",
       "      <td>34.67</td>\n",
       "      <td>1009</td>\n",
       "      <td>33</td>\n",
       "      <td>Clear</td>\n",
       "      <td>clear sky</td>\n",
       "      <td>4.57</td>\n",
       "      <td>206</td>\n",
       "      <td>7</td>\n",
       "      <td>0.00</td>\n",
       "      <td>0</td>\n",
       "    </tr>\n",
       "    <tr>\n",
       "      <th>35</th>\n",
       "      <td>2024-09-24 00:00:00</td>\n",
       "      <td>28.54</td>\n",
       "      <td>30.02</td>\n",
       "      <td>1009</td>\n",
       "      <td>58</td>\n",
       "      <td>Clouds</td>\n",
       "      <td>scattered clouds</td>\n",
       "      <td>1.86</td>\n",
       "      <td>295</td>\n",
       "      <td>44</td>\n",
       "      <td>0.00</td>\n",
       "      <td>0</td>\n",
       "    </tr>\n",
       "    <tr>\n",
       "      <th>36</th>\n",
       "      <td>2024-09-24 03:00:00</td>\n",
       "      <td>23.55</td>\n",
       "      <td>24.23</td>\n",
       "      <td>1011</td>\n",
       "      <td>87</td>\n",
       "      <td>Rain</td>\n",
       "      <td>light rain</td>\n",
       "      <td>1.86</td>\n",
       "      <td>350</td>\n",
       "      <td>100</td>\n",
       "      <td>1.71</td>\n",
       "      <td>0</td>\n",
       "    </tr>\n",
       "    <tr>\n",
       "      <th>37</th>\n",
       "      <td>2024-09-24 06:00:00</td>\n",
       "      <td>22.89</td>\n",
       "      <td>23.45</td>\n",
       "      <td>1012</td>\n",
       "      <td>85</td>\n",
       "      <td>Rain</td>\n",
       "      <td>light rain</td>\n",
       "      <td>0.58</td>\n",
       "      <td>341</td>\n",
       "      <td>100</td>\n",
       "      <td>1.14</td>\n",
       "      <td>0</td>\n",
       "    </tr>\n",
       "    <tr>\n",
       "      <th>38</th>\n",
       "      <td>2024-09-24 09:00:00</td>\n",
       "      <td>20.41</td>\n",
       "      <td>20.86</td>\n",
       "      <td>1012</td>\n",
       "      <td>90</td>\n",
       "      <td>Rain</td>\n",
       "      <td>light rain</td>\n",
       "      <td>1.76</td>\n",
       "      <td>350</td>\n",
       "      <td>36</td>\n",
       "      <td>0.72</td>\n",
       "      <td>0</td>\n",
       "    </tr>\n",
       "    <tr>\n",
       "      <th>39</th>\n",
       "      <td>2024-09-24 12:00:00</td>\n",
       "      <td>19.39</td>\n",
       "      <td>19.81</td>\n",
       "      <td>1013</td>\n",
       "      <td>93</td>\n",
       "      <td>Rain</td>\n",
       "      <td>light rain</td>\n",
       "      <td>1.91</td>\n",
       "      <td>26</td>\n",
       "      <td>55</td>\n",
       "      <td>0.36</td>\n",
       "      <td>0</td>\n",
       "    </tr>\n",
       "  </tbody>\n",
       "</table>\n",
       "</div>"
      ],
      "text/plain": [
       "               DateTime  Temperature  Feels Like_temp  Pressure(hPa)  \\\n",
       "0   2024-09-19 15:00:00        21.38            21.61           1014   \n",
       "1   2024-09-19 18:00:00        27.48            28.53           1014   \n",
       "2   2024-09-19 21:00:00        32.26            32.66           1012   \n",
       "3   2024-09-20 00:00:00        27.03            27.98           1011   \n",
       "4   2024-09-20 03:00:00        24.15            24.32           1011   \n",
       "5   2024-09-20 06:00:00        22.38            22.55           1012   \n",
       "6   2024-09-20 09:00:00        21.57            21.69           1012   \n",
       "7   2024-09-20 12:00:00        21.09            21.16           1013   \n",
       "8   2024-09-20 15:00:00        27.56            28.21           1014   \n",
       "9   2024-09-20 18:00:00        33.22            34.59           1012   \n",
       "10  2024-09-20 21:00:00        34.72            36.15           1010   \n",
       "11  2024-09-21 00:00:00        29.30            30.76           1010   \n",
       "12  2024-09-21 03:00:00        26.14            26.14           1012   \n",
       "13  2024-09-21 06:00:00        24.41            24.50           1012   \n",
       "14  2024-09-21 09:00:00        23.15            23.24           1012   \n",
       "15  2024-09-21 12:00:00        22.35            22.47           1013   \n",
       "16  2024-09-21 15:00:00        27.38            28.24           1015   \n",
       "17  2024-09-21 18:00:00        32.53            33.26           1014   \n",
       "18  2024-09-21 21:00:00        33.81            34.63           1012   \n",
       "19  2024-09-22 00:00:00        27.69            29.41           1012   \n",
       "20  2024-09-22 03:00:00        25.70            26.13           1012   \n",
       "21  2024-09-22 06:00:00        24.12            24.34           1012   \n",
       "22  2024-09-22 09:00:00        23.19            23.42           1013   \n",
       "23  2024-09-22 12:00:00        22.53            22.74           1013   \n",
       "24  2024-09-22 15:00:00        27.33            28.43           1014   \n",
       "25  2024-09-22 18:00:00        32.68            33.09           1013   \n",
       "26  2024-09-22 21:00:00        34.32            34.31           1011   \n",
       "27  2024-09-23 00:00:00        29.13            29.47           1010   \n",
       "28  2024-09-23 03:00:00        27.61            28.03           1011   \n",
       "29  2024-09-23 06:00:00        26.48            26.48           1011   \n",
       "30  2024-09-23 09:00:00        23.73            23.86           1011   \n",
       "31  2024-09-23 12:00:00        23.62            23.76           1012   \n",
       "32  2024-09-23 15:00:00        28.12            29.18           1013   \n",
       "33  2024-09-23 18:00:00        33.40            33.56           1011   \n",
       "34  2024-09-23 21:00:00        34.56            34.67           1009   \n",
       "35  2024-09-24 00:00:00        28.54            30.02           1009   \n",
       "36  2024-09-24 03:00:00        23.55            24.23           1011   \n",
       "37  2024-09-24 06:00:00        22.89            23.45           1012   \n",
       "38  2024-09-24 09:00:00        20.41            20.86           1012   \n",
       "39  2024-09-24 12:00:00        19.39            19.81           1013   \n",
       "\n",
       "    Humidity_percent Weather Weather Description  Wind Speed  Wind Direction  \\\n",
       "0                 78   Clear           clear sky        1.24             118   \n",
       "1                 58   Clear           clear sky        0.74             139   \n",
       "2                 40   Clear           clear sky        1.45             115   \n",
       "3                 58   Clear           clear sky        2.78             114   \n",
       "4                 65   Clear           clear sky        2.50             116   \n",
       "5                 72   Clear           clear sky        1.93             149   \n",
       "6                 73  Clouds          few clouds        1.22             202   \n",
       "7                 73  Clouds          few clouds        1.42             203   \n",
       "8                 53  Clouds          few clouds        2.04             196   \n",
       "9                 42  Clouds          few clouds        1.78             194   \n",
       "10                38  Clouds    scattered clouds        1.96             139   \n",
       "11                55  Clouds       broken clouds        3.03             123   \n",
       "12                59  Clouds     overcast clouds        2.00             153   \n",
       "13                61  Clouds       broken clouds        2.38             172   \n",
       "14                66  Clouds       broken clouds        2.20             203   \n",
       "15                70  Clouds       broken clouds        1.83             200   \n",
       "16                56  Clouds     overcast clouds        0.43             189   \n",
       "17                41  Clouds       broken clouds        2.23             123   \n",
       "18                38  Clouds    scattered clouds        2.88              93   \n",
       "19                64  Clouds       broken clouds        3.24              62   \n",
       "20                69  Clouds       broken clouds        1.95             143   \n",
       "21                67  Clouds       broken clouds        1.22             174   \n",
       "22                71  Clouds    scattered clouds        1.60             203   \n",
       "23                73  Clouds    scattered clouds        2.07             203   \n",
       "24                59  Clouds     overcast clouds        3.43             231   \n",
       "25                39  Clouds     overcast clouds        3.33             226   \n",
       "26                33  Clouds       broken clouds        3.02             209   \n",
       "27                47  Clouds       broken clouds        1.69             177   \n",
       "28                50  Clouds     overcast clouds        2.10             176   \n",
       "29                55  Clouds       broken clouds        3.25             205   \n",
       "30                65  Clouds    scattered clouds        3.01             206   \n",
       "31                66  Clouds       broken clouds        3.45             232   \n",
       "32                56  Clouds     overcast clouds        4.22             231   \n",
       "33                36  Clouds       broken clouds        4.57             222   \n",
       "34                33   Clear           clear sky        4.57             206   \n",
       "35                58  Clouds    scattered clouds        1.86             295   \n",
       "36                87    Rain          light rain        1.86             350   \n",
       "37                85    Rain          light rain        0.58             341   \n",
       "38                90    Rain          light rain        1.76             350   \n",
       "39                93    Rain          light rain        1.91              26   \n",
       "\n",
       "    Cloudiness  Rain Volume(mm)  Snow Volume(mm)  \n",
       "0            0             0.00                0  \n",
       "1            0             0.00                0  \n",
       "2            0             0.00                0  \n",
       "3            0             0.00                0  \n",
       "4            0             0.00                0  \n",
       "5            1             0.00                0  \n",
       "6           20             0.00                0  \n",
       "7           13             0.00                0  \n",
       "8           23             0.00                0  \n",
       "9           15             0.00                0  \n",
       "10          44             0.00                0  \n",
       "11          56             0.00                0  \n",
       "12          94             0.00                0  \n",
       "13          58             0.00                0  \n",
       "14          77             0.00                0  \n",
       "15          74             0.00                0  \n",
       "16          99             0.00                0  \n",
       "17          76             0.00                0  \n",
       "18          26             0.00                0  \n",
       "19          63             0.00                0  \n",
       "20          66             0.00                0  \n",
       "21          55             0.00                0  \n",
       "22          27             0.00                0  \n",
       "23          47             0.00                0  \n",
       "24         100             0.00                0  \n",
       "25         100             0.00                0  \n",
       "26          76             0.00                0  \n",
       "27          67             0.00                0  \n",
       "28          92             0.00                0  \n",
       "29          65             0.00                0  \n",
       "30          35             0.00                0  \n",
       "31          67             0.00                0  \n",
       "32         100             0.00                0  \n",
       "33          67             0.00                0  \n",
       "34           7             0.00                0  \n",
       "35          44             0.00                0  \n",
       "36         100             1.71                0  \n",
       "37         100             1.14                0  \n",
       "38          36             0.72                0  \n",
       "39          55             0.36                0  "
      ]
     },
     "execution_count": 21,
     "metadata": {},
     "output_type": "execute_result"
    }
   ],
   "source": [
    "if response.status_code == 200:\n",
    "    data = response.json()\n",
    "    weather_data = []\n",
    "\n",
    "    # Iterate over the 'list' of forecast records\n",
    "    for forecast in data['list']:\n",
    "        date_time = datetime.utcfromtimestamp(forecast['dt']).strftime('%Y-%m-%d %H:%M:%S')\n",
    "        temp = kelvin_to_celsius(forecast['main']['temp'])\n",
    "        feels_like = kelvin_to_celsius(forecast['main']['feels_like'])\n",
    "        pressure = forecast['main']['pressure']\n",
    "        humidity = forecast['main']['humidity']\n",
    "        weather_main = forecast['weather'][0]['main']\n",
    "        weather_description = forecast['weather'][0]['description']\n",
    "        wind_speed = forecast['wind']['speed']\n",
    "        wind_direction = forecast['wind']['deg']\n",
    "        cloudiness = forecast['clouds']['all']\n",
    "        rain_volume = forecast.get('rain', {}).get('3h', 0)\n",
    "        snow_volume = forecast.get('snow', {}).get('3h', 0)\n",
    "\n",
    "        # Append the weather data for each forecast\n",
    "        weather_data.append({\n",
    "            \"DateTime\": date_time,\n",
    "            \"Temperature\": temp,\n",
    "            \"Feels Like_temp\": feels_like,\n",
    "            \"Pressure(hPa)\": pressure,\n",
    "            \"Humidity_percent\": humidity,\n",
    "            \"Weather\": weather_main,\n",
    "            \"Weather Description\": weather_description,\n",
    "            \"Wind Speed\": wind_speed,\n",
    "            \"Wind Direction\": wind_direction,\n",
    "            \"Cloudiness\": cloudiness,\n",
    "            \"Rain Volume(mm)\": rain_volume,\n",
    "            \"Snow Volume(mm)\": snow_volume\n",
    "        })\n",
    "\n",
    "    # Create DataFrame with the weather data\n",
    "    df = pd.DataFrame(weather_data)\n",
    "    # Display the DataFrame (this will now show all rows)\n",
    "    \n",
    "else:\n",
    "    print(f\"Failed to get data: {response.status_code}\")\n",
    "\n",
    "df.head(len(df))\n",
    "\n"
   ]
  },
  {
   "cell_type": "code",
   "execution_count": 27,
   "id": "338e1e76-2c53-41fa-8277-8ccd00c8e74a",
   "metadata": {},
   "outputs": [
    {
     "name": "stdout",
     "output_type": "stream",
     "text": [
      "[NbConvertApp] Converting notebook weather_api_etl_pipeline_postgresql.ipynb to script\n",
      "[NbConvertApp] Writing 3260 bytes to weather_api_etl_pipeline_postgresql.py\n"
     ]
    }
   ],
   "source": [
    "## Convert \".ipynb\" to \".py\"\n",
    "\n",
    "!jupyter nbconvert --to script weather_api_etl_pipeline_postgresql.ipynb"
   ]
  },
  {
   "cell_type": "code",
   "execution_count": 29,
   "id": "e91c8ff8-e45c-4fa6-98c7-b052b5dc462b",
   "metadata": {},
   "outputs": [
    {
     "name": "stdout",
     "output_type": "stream",
     "text": [
      "<class 'pandas.core.frame.DataFrame'>\n",
      "RangeIndex: 40 entries, 0 to 39\n",
      "Data columns (total 12 columns):\n",
      " #   Column               Non-Null Count  Dtype  \n",
      "---  ------               --------------  -----  \n",
      " 0   DateTime             40 non-null     object \n",
      " 1   Temperature          40 non-null     float64\n",
      " 2   Feels Like_temp      40 non-null     float64\n",
      " 3   Pressure(hPa)        40 non-null     int64  \n",
      " 4   Humidity_percent     40 non-null     int64  \n",
      " 5   Weather              40 non-null     object \n",
      " 6   Weather Description  40 non-null     object \n",
      " 7   Wind Speed           40 non-null     float64\n",
      " 8   Wind Direction       40 non-null     int64  \n",
      " 9   Cloudiness           40 non-null     int64  \n",
      " 10  Rain Volume(mm)      40 non-null     float64\n",
      " 11  Snow Volume(mm)      40 non-null     int64  \n",
      "dtypes: float64(4), int64(5), object(3)\n",
      "memory usage: 3.9+ KB\n"
     ]
    }
   ],
   "source": [
    "df.info()"
   ]
  },
  {
   "cell_type": "markdown",
   "id": "e6c14f55-4a55-4677-ab5e-3bed24ea2b64",
   "metadata": {},
   "source": [
    "#### Trend Plot (Tempearature Trend Over Time)"
   ]
  },
  {
   "cell_type": "code",
   "execution_count": 65,
   "id": "adb928e5-ae03-42ae-a59e-e32333d69524",
   "metadata": {},
   "outputs": [
    {
     "data": {
      "image/png": "[encoded data removed]",
      "text/plain": [
       "<Figure size 1400x600 with 1 Axes>"
      ]
     },
     "metadata": {},
     "output_type": "display_data"
    }
   ],
   "source": [
    "df['DateTime'] = pd.to_datetime(df['DateTime'])\n",
    "\n",
    "# Calculate the average temperature\n",
    "average_temp = df['Temperature'].mean()\n",
    "\n",
    "# Create the plot\n",
    "plt.figure(figsize=(14, 6))\n",
    "plt.plot(df['DateTime'], df['Temperature'], marker='o', linestyle='-', color='b', label='Temperature')\n",
    "\n",
    "# Add the red line for the average temperature\n",
    "plt.axhline(y=average_temp, color='r', linestyle='--', label=f'Avg Temp: {average_temp:.2f}°C')\n",
    "\n",
    "# Add labels and title\n",
    "plt.title('Temperature Trend Over Time with Average', fontsize=16)\n",
    "plt.xlabel('DateTime', fontsize=10)\n",
    "plt.ylabel('Temperature (°C)', fontsize=12)\n",
    "plt.xticks(rotation=45)\n",
    "\n",
    "# Add a legend\n",
    "plt.legend()\n",
    "\n",
    "# Display the plot\n",
    "plt.grid(True)\n",
    "plt.show()\n"
   ]
  },
  {
   "cell_type": "code",
   "execution_count": 45,
   "id": "b9dc1bfc-44ce-4389-95fa-e94c589c889d",
   "metadata": {},
   "outputs": [],
   "source": [
    "## For an interactive plot we can use Plotly"
   ]
  },
  {
   "cell_type": "code",
   "execution_count": 57,
   "id": "088a860c-1b67-428d-945d-45a2909b6a9b",
   "metadata": {},
   "outputs": [
    {
     "data": {
      "application/vnd.plotly.v1+json": {
       "config": {
        "plotlyServerURL": "https://plot.ly"
       },
       "data": [
        {
         "hovertemplate": "DateTime=%{x}<br>Temperature=%{y}<extra></extra>",
         "legendgroup": "",
         "line": {
          "color": "#636efa",
          "dash": "solid"
         },
         "marker": {
          "symbol": "circle"
         },
         "mode": "lines",
         "name": "",
         "orientation": "v",
         "showlegend": false,
         "type": "scatter",
         "x": [
          "2024-09-19T15:00:00",
          "2024-09-19T18:00:00",
          "2024-09-19T21:00:00",
          "2024-09-20T00:00:00",
          "2024-09-20T03:00:00",
          "2024-09-20T06:00:00",
          "2024-09-20T09:00:00",
          "2024-09-20T12:00:00",
          "2024-09-20T15:00:00",
          "2024-09-20T18:00:00",
          "2024-09-20T21:00:00",
          "2024-09-21T00:00:00",
          "2024-09-21T03:00:00",
          "2024-09-21T06:00:00",
          "2024-09-21T09:00:00",
          "2024-09-21T12:00:00",
          "2024-09-21T15:00:00",
          "2024-09-21T18:00:00",
          "2024-09-21T21:00:00",
          "2024-09-22T00:00:00",
          "2024-09-22T03:00:00",
          "2024-09-22T06:00:00",
          "2024-09-22T09:00:00",
          "2024-09-22T12:00:00",
          "2024-09-22T15:00:00",
          "2024-09-22T18:00:00",
          "2024-09-22T21:00:00",
          "2024-09-23T00:00:00",
          "2024-09-23T03:00:00",
          "2024-09-23T06:00:00",
          "2024-09-23T09:00:00",
          "2024-09-23T12:00:00",
          "2024-09-23T15:00:00",
          "2024-09-23T18:00:00",
          "2024-09-23T21:00:00",
          "2024-09-24T00:00:00",
          "2024-09-24T03:00:00",
          "2024-09-24T06:00:00",
          "2024-09-24T09:00:00",
          "2024-09-24T12:00:00"
         ],
         "xaxis": "x",
         "y": [
          21.379999999999995,
          27.480000000000018,
          32.26000000000005,
          27.03000000000003,
          24.150000000000034,
          22.379999999999995,
          21.57000000000005,
          21.090000000000032,
          27.560000000000002,
          33.22000000000003,
          34.72000000000003,
          29.30000000000001,
          26.140000000000043,
          24.410000000000025,
          23.150000000000034,
          22.350000000000023,
          27.379999999999995,
          32.53000000000003,
          33.81,
          27.689999999999998,
          25.700000000000045,
          24.120000000000005,
          23.189999999999998,
          22.53000000000003,
          27.33000000000004,
          32.68000000000001,
          34.32000000000005,
          29.129999999999995,
          27.610000000000014,
          26.480000000000018,
          23.730000000000018,
          23.620000000000005,
          28.120000000000005,
          33.400000000000034,
          34.56,
          28.54000000000002,
          23.55000000000001,
          22.890000000000043,
          20.410000000000025,
          19.390000000000043
         ],
         "yaxis": "y"
        }
       ],
       "layout": {
        "annotations": [
         {
          "font": {
           "color": "red"
          },
          "showarrow": false,
          "text": "Avg Temp: 26.77°C",
          "x": "2024-09-24T12:00:00",
          "y": 26.77250000000002
         }
        ],
        "autosize": true,
        "legend": {
         "tracegroupgap": 0
        },
        "shapes": [
         {
          "line": {
           "color": "red",
           "dash": "dash"
          },
          "type": "line",
          "x0": "2024-09-19T15:00:00",
          "x1": "2024-09-24T12:00:00",
          "y0": 26.77250000000002,
          "y1": 26.77250000000002
         }
        ],
        "template": {
         "data": {
          "bar": [
           {
            "error_x": {
             "color": "#2a3f5f"
            },
            "error_y": {
             "color": "#2a3f5f"
            },
            "marker": {
             "line": {
              "color": "#E5ECF6",
              "width": 0.5
             },
             "pattern": {
              "fillmode": "overlay",
              "size": 10,
              "solidity": 0.2
             }
            },
            "type": "bar"
           }
          ],
          "barpolar": [
           {
            "marker": {
             "line": {
              "color": "#E5ECF6",
              "width": 0.5
             },
             "pattern": {
              "fillmode": "overlay",
              "size": 10,
              "solidity": 0.2
             }
            },
            "type": "barpolar"
           }
          ],
          "carpet": [
           {
            "aaxis": {
             "endlinecolor": "#2a3f5f",
             "gridcolor": "white",
             "linecolor": "white",
             "minorgridcolor": "white",
             "startlinecolor": "#2a3f5f"
            },
            "baxis": {
             "endlinecolor": "#2a3f5f",
             "gridcolor": "white",
             "linecolor": "white",
             "minorgridcolor": "white",
             "startlinecolor": "#2a3f5f"
            },
            "type": "carpet"
           }
          ],
          "choropleth": [
           {
            "colorbar": {
             "outlinewidth": 0,
             "ticks": ""
            },
            "type": "choropleth"
           }
          ],
          "contour": [
           {
            "colorbar": {
             "outlinewidth": 0,
             "ticks": ""
            },
            "colorscale": [
             [
              0,
              "#0d0887"
             ],
             [
              0.1111111111111111,
              "#46039f"
             ],
             [
              0.2222222222222222,
              "#7201a8"
             ],
             [
              0.3333333333333333,
              "#9c179e"
             ],
             [
              0.4444444444444444,
              "#bd3786"
             ],
             [
              0.5555555555555556,
              "#d8576b"
             ],
             [
              0.6666666666666666,
              "#ed7953"
             ],
             [
              0.7777777777777778,
              "#fb9f3a"
             ],
             [
              0.8888888888888888,
              "#fdca26"
             ],
             [
              1,
              "#f0f921"
             ]
            ],
            "type": "contour"
           }
          ],
          "contourcarpet": [
           {
            "colorbar": {
             "outlinewidth": 0,
             "ticks": ""
            },
            "type": "contourcarpet"
           }
          ],
          "heatmap": [
           {
            "colorbar": {
             "outlinewidth": 0,
             "ticks": ""
            },
            "colorscale": [
             [
              0,
              "#0d0887"
             ],
             [
              0.1111111111111111,
              "#46039f"
             ],
             [
              0.2222222222222222,
              "#7201a8"
             ],
             [
              0.3333333333333333,
              "#9c179e"
             ],
             [
              0.4444444444444444,
              "#bd3786"
             ],
             [
              0.5555555555555556,
              "#d8576b"
             ],
             [
              0.6666666666666666,
              "#ed7953"
             ],
             [
              0.7777777777777778,
              "#fb9f3a"
             ],
             [
              0.8888888888888888,
              "#fdca26"
             ],
             [
              1,
              "#f0f921"
             ]
            ],
            "type": "heatmap"
           }
          ],
          "heatmapgl": [
           {
            "colorbar": {
             "outlinewidth": 0,
             "ticks": ""
            },
            "colorscale": [
             [
              0,
              "#0d0887"
             ],
             [
              0.1111111111111111,
              "#46039f"
             ],
             [
              0.2222222222222222,
              "#7201a8"
             ],
             [
              0.3333333333333333,
              "#9c179e"
             ],
             [
              0.4444444444444444,
              "#bd3786"
             ],
             [
              0.5555555555555556,
              "#d8576b"
             ],
             [
              0.6666666666666666,
              "#ed7953"
             ],
             [
              0.7777777777777778,
              "#fb9f3a"
             ],
             [
              0.8888888888888888,
              "#fdca26"
             ],
             [
              1,
              "#f0f921"
             ]
            ],
            "type": "heatmapgl"
           }
          ],
          "histogram": [
           {
            "marker": {
             "pattern": {
              "fillmode": "overlay",
              "size": 10,
              "solidity": 0.2
             }
            },
            "type": "histogram"
           }
          ],
          "histogram2d": [
           {
            "colorbar": {
             "outlinewidth": 0,
             "ticks": ""
            },
            "colorscale": [
             [
              0,
              "#0d0887"
             ],
             [
              0.1111111111111111,
              "#46039f"
             ],
             [
              0.2222222222222222,
              "#7201a8"
             ],
             [
              0.3333333333333333,
              "#9c179e"
             ],
             [
              0.4444444444444444,
              "#bd3786"
             ],
             [
              0.5555555555555556,
              "#d8576b"
             ],
             [
              0.6666666666666666,
              "#ed7953"
             ],
             [
              0.7777777777777778,
              "#fb9f3a"
             ],
             [
              0.8888888888888888,
              "#fdca26"
             ],
             [
              1,
              "#f0f921"
             ]
            ],
            "type": "histogram2d"
           }
          ],
          "histogram2dcontour": [
           {
            "colorbar": {
             "outlinewidth": 0,
             "ticks": ""
            },
            "colorscale": [
             [
              0,
              "#0d0887"
             ],
             [
              0.1111111111111111,
              "#46039f"
             ],
             [
              0.2222222222222222,
              "#7201a8"
             ],
             [
              0.3333333333333333,
              "#9c179e"
             ],
             [
              0.4444444444444444,
              "#bd3786"
             ],
             [
              0.5555555555555556,
              "#d8576b"
             ],
             [
              0.6666666666666666,
              "#ed7953"
             ],
             [
              0.7777777777777778,
              "#fb9f3a"
             ],
             [
              0.8888888888888888,
              "#fdca26"
             ],
             [
              1,
              "#f0f921"
             ]
            ],
            "type": "histogram2dcontour"
           }
          ],
          "mesh3d": [
           {
            "colorbar": {
             "outlinewidth": 0,
             "ticks": ""
            },
            "type": "mesh3d"
           }
          ],
          "parcoords": [
           {
            "line": {
             "colorbar": {
              "outlinewidth": 0,
              "ticks": ""
             }
            },
            "type": "parcoords"
           }
          ],
          "pie": [
           {
            "automargin": true,
            "type": "pie"
           }
          ],
          "scatter": [
           {
            "fillpattern": {
             "fillmode": "overlay",
             "size": 10,
             "solidity": 0.2
            },
            "type": "scatter"
           }
          ],
          "scatter3d": [
           {
            "line": {
             "colorbar": {
              "outlinewidth": 0,
              "ticks": ""
             }
            },
            "marker": {
             "colorbar": {
              "outlinewidth": 0,
              "ticks": ""
             }
            },
            "type": "scatter3d"
           }
          ],
          "scattercarpet": [
           {
            "marker": {
             "colorbar": {
              "outlinewidth": 0,
              "ticks": ""
             }
            },
            "type": "scattercarpet"
           }
          ],
          "scattergeo": [
           {
            "marker": {
             "colorbar": {
              "outlinewidth": 0,
              "ticks": ""
             }
            },
            "type": "scattergeo"
           }
          ],
          "scattergl": [
           {
            "marker": {
             "colorbar": {
              "outlinewidth": 0,
              "ticks": ""
             }
            },
            "type": "scattergl"
           }
          ],
          "scattermapbox": [
           {
            "marker": {
             "colorbar": {
              "outlinewidth": 0,
              "ticks": ""
             }
            },
            "type": "scattermapbox"
           }
          ],
          "scatterpolar": [
           {
            "marker": {
             "colorbar": {
              "outlinewidth": 0,
              "ticks": ""
             }
            },
            "type": "scatterpolar"
           }
          ],
          "scatterpolargl": [
           {
            "marker": {
             "colorbar": {
              "outlinewidth": 0,
              "ticks": ""
             }
            },
            "type": "scatterpolargl"
           }
          ],
          "scatterternary": [
           {
            "marker": {
             "colorbar": {
              "outlinewidth": 0,
              "ticks": ""
             }
            },
            "type": "scatterternary"
           }
          ],
          "surface": [
           {
            "colorbar": {
             "outlinewidth": 0,
             "ticks": ""
            },
            "colorscale": [
             [
              0,
              "#0d0887"
             ],
             [
              0.1111111111111111,
              "#46039f"
             ],
             [
              0.2222222222222222,
              "#7201a8"
             ],
             [
              0.3333333333333333,
              "#9c179e"
             ],
             [
              0.4444444444444444,
              "#bd3786"
             ],
             [
              0.5555555555555556,
              "#d8576b"
             ],
             [
              0.6666666666666666,
              "#ed7953"
             ],
             [
              0.7777777777777778,
              "#fb9f3a"
             ],
             [
              0.8888888888888888,
              "#fdca26"
             ],
             [
              1,
              "#f0f921"
             ]
            ],
            "type": "surface"
           }
          ],
          "table": [
           {
            "cells": {
             "fill": {
              "color": "#EBF0F8"
             },
             "line": {
              "color": "white"
             }
            },
            "header": {
             "fill": {
              "color": "#C8D4E3"
             },
             "line": {
              "color": "white"
             }
            },
            "type": "table"
           }
          ]
         },
         "layout": {
          "annotationdefaults": {
           "arrowcolor": "#2a3f5f",
           "arrowhead": 0,
           "arrowwidth": 1
          },
          "autotypenumbers": "strict",
          "coloraxis": {
           "colorbar": {
            "outlinewidth": 0,
            "ticks": ""
           }
          },
          "colorscale": {
           "diverging": [
            [
             0,
             "#8e0152"
            ],
            [
             0.1,
             "#c51b7d"
            ],
            [
             0.2,
             "#de77ae"
            ],
            [
             0.3,
             "#f1b6da"
            ],
            [
             0.4,
             "#fde0ef"
            ],
            [
             0.5,
             "#f7f7f7"
            ],
            [
             0.6,
             "#e6f5d0"
            ],
            [
             0.7,
             "#b8e186"
            ],
            [
             0.8,
             "#7fbc41"
            ],
            [
             0.9,
             "#4d9221"
            ],
            [
             1,
             "#276419"
            ]
           ],
           "sequential": [
            [
             0,
             "#0d0887"
            ],
            [
             0.1111111111111111,
             "#46039f"
            ],
            [
             0.2222222222222222,
             "#7201a8"
            ],
            [
             0.3333333333333333,
             "#9c179e"
            ],
            [
             0.4444444444444444,
             "#bd3786"
            ],
            [
             0.5555555555555556,
             "#d8576b"
            ],
            [
             0.6666666666666666,
             "#ed7953"
            ],
            [
             0.7777777777777778,
             "#fb9f3a"
            ],
            [
             0.8888888888888888,
             "#fdca26"
            ],
            [
             1,
             "#f0f921"
            ]
           ],
           "sequentialminus": [
            [
             0,
             "#0d0887"
            ],
            [
             0.1111111111111111,
             "#46039f"
            ],
            [
             0.2222222222222222,
             "#7201a8"
            ],
            [
             0.3333333333333333,
             "#9c179e"
            ],
            [
             0.4444444444444444,
             "#bd3786"
            ],
            [
             0.5555555555555556,
             "#d8576b"
            ],
            [
             0.6666666666666666,
             "#ed7953"
            ],
            [
             0.7777777777777778,
             "#fb9f3a"
            ],
            [
             0.8888888888888888,
             "#fdca26"
            ],
            [
             1,
             "#f0f921"
            ]
           ]
          },
          "colorway": [
           "#636efa",
           "#EF553B",
           "#00cc96",
           "#ab63fa",
           "#FFA15A",
           "#19d3f3",
           "#FF6692",
           "#B6E880",
           "#FF97FF",
           "#FECB52"
          ],
          "font": {
           "color": "#2a3f5f"
          },
          "geo": {
           "bgcolor": "white",
           "lakecolor": "white",
           "landcolor": "#E5ECF6",
           "showlakes": true,
           "showland": true,
           "subunitcolor": "white"
          },
          "hoverlabel": {
           "align": "left"
          },
          "hovermode": "closest",
          "mapbox": {
           "style": "light"
          },
          "paper_bgcolor": "white",
          "plot_bgcolor": "#E5ECF6",
          "polar": {
           "angularaxis": {
            "gridcolor": "white",
            "linecolor": "white",
            "ticks": ""
           },
           "bgcolor": "#E5ECF6",
           "radialaxis": {
            "gridcolor": "white",
            "linecolor": "white",
            "ticks": ""
           }
          },
          "scene": {
           "xaxis": {
            "backgroundcolor": "#E5ECF6",
            "gridcolor": "white",
            "gridwidth": 2,
            "linecolor": "white",
            "showbackground": true,
            "ticks": "",
            "zerolinecolor": "white"
           },
           "yaxis": {
            "backgroundcolor": "#E5ECF6",
            "gridcolor": "white",
            "gridwidth": 2,
            "linecolor": "white",
            "showbackground": true,
            "ticks": "",
            "zerolinecolor": "white"
           },
           "zaxis": {
            "backgroundcolor": "#E5ECF6",
            "gridcolor": "white",
            "gridwidth": 2,
            "linecolor": "white",
            "showbackground": true,
            "ticks": "",
            "zerolinecolor": "white"
           }
          },
          "shapedefaults": {
           "line": {
            "color": "#2a3f5f"
           }
          },
          "ternary": {
           "aaxis": {
            "gridcolor": "white",
            "linecolor": "white",
            "ticks": ""
           },
           "baxis": {
            "gridcolor": "white",
            "linecolor": "white",
            "ticks": ""
           },
           "bgcolor": "#E5ECF6",
           "caxis": {
            "gridcolor": "white",
            "linecolor": "white",
            "ticks": ""
           }
          },
          "title": {
           "x": 0.05
          },
          "xaxis": {
           "automargin": true,
           "gridcolor": "white",
           "linecolor": "white",
           "ticks": "",
           "title": {
            "standoff": 15
           },
           "zerolinecolor": "white",
           "zerolinewidth": 2
          },
          "yaxis": {
           "automargin": true,
           "gridcolor": "white",
           "linecolor": "white",
           "ticks": "",
           "title": {
            "standoff": 15
           },
           "zerolinecolor": "white",
           "zerolinewidth": 2
          }
         }
        },
        "title": {
         "text": "Temperature Trend Over Time"
        },
        "xaxis": {
         "anchor": "y",
         "autorange": true,
         "domain": [
          0,
          1
         ],
         "range": [
          "2024-09-19 14:52:04.8731",
          "2024-09-24 19:03:39.2893"
         ],
         "tickangle": -45,
         "title": {
          "text": "DateTime"
         },
         "type": "date"
        },
        "yaxis": {
         "anchor": "x",
         "autorange": true,
         "domain": [
          0,
          1
         ],
         "range": [
          18.538333333333377,
          35.571666666666694
         ],
         "title": {
          "text": "Temperature (°C)"
         },
         "type": "linear"
        }
       }
      },
      "image/png": "[encoded data removed]",
      "text/html": [
       "<div>                            <div id=\"1aea9865-e9f5-4a1f-9d21-ec23df0ebc68\" class=\"plotly-graph-div\" style=\"height:525px; width:100%;\"></div>            <script type=\"text/javascript\">                require([\"plotly\"], function(Plotly) {                    window.PLOTLYENV=window.PLOTLYENV || {};                                    if (document.getElementById(\"1aea9865-e9f5-4a1f-9d21-ec23df0ebc68\")) {                    Plotly.newPlot(                        \"1aea9865-e9f5-4a1f-9d21-ec23df0ebc68\",                        [{\"hovertemplate\":\"DateTime=%{x}\\u003cbr\\u003eTemperature=%{y}\\u003cextra\\u003e\\u003c\\u002fextra\\u003e\",\"legendgroup\":\"\",\"line\":{\"color\":\"#636efa\",\"dash\":\"solid\"},\"marker\":{\"symbol\":\"circle\"},\"mode\":\"lines\",\"name\":\"\",\"orientation\":\"v\",\"showlegend\":false,\"x\":[\"2024-09-19T15:00:00\",\"2024-09-19T18:00:00\",\"2024-09-19T21:00:00\",\"2024-09-20T00:00:00\",\"2024-09-20T03:00:00\",\"2024-09-20T06:00:00\",\"2024-09-20T09:00:00\",\"2024-09-20T12:00:00\",\"2024-09-20T15:00:00\",\"2024-09-20T18:00:00\",\"2024-09-20T21:00:00\",\"2024-09-21T00:00:00\",\"2024-09-21T03:00:00\",\"2024-09-21T06:00:00\",\"2024-09-21T09:00:00\",\"2024-09-21T12:00:00\",\"2024-09-21T15:00:00\",\"2024-09-21T18:00:00\",\"2024-09-21T21:00:00\",\"2024-09-22T00:00:00\",\"2024-09-22T03:00:00\",\"2024-09-22T06:00:00\",\"2024-09-22T09:00:00\",\"2024-09-22T12:00:00\",\"2024-09-22T15:00:00\",\"2024-09-22T18:00:00\",\"2024-09-22T21:00:00\",\"2024-09-23T00:00:00\",\"2024-09-23T03:00:00\",\"2024-09-23T06:00:00\",\"2024-09-23T09:00:00\",\"2024-09-23T12:00:00\",\"2024-09-23T15:00:00\",\"2024-09-23T18:00:00\",\"2024-09-23T21:00:00\",\"2024-09-24T00:00:00\",\"2024-09-24T03:00:00\",\"2024-09-24T06:00:00\",\"2024-09-24T09:00:00\",\"2024-09-24T12:00:00\"],\"xaxis\":\"x\",\"y\":[21.379999999999995,27.480000000000018,32.26000000000005,27.03000000000003,24.150000000000034,22.379999999999995,21.57000000000005,21.090000000000032,27.560000000000002,33.22000000000003,34.72000000000003,29.30000000000001,26.140000000000043,24.410000000000025,23.150000000000034,22.350000000000023,27.379999999999995,32.53000000000003,33.81,27.689999999999998,25.700000000000045,24.120000000000005,23.189999999999998,22.53000000000003,27.33000000000004,32.68000000000001,34.32000000000005,29.129999999999995,27.610000000000014,26.480000000000018,23.730000000000018,23.620000000000005,28.120000000000005,33.400000000000034,34.56,28.54000000000002,23.55000000000001,22.890000000000043,20.410000000000025,19.390000000000043],\"yaxis\":\"y\",\"type\":\"scatter\"}],                        {\"template\":{\"data\":{\"histogram2dcontour\":[{\"type\":\"histogram2dcontour\",\"colorbar\":{\"outlinewidth\":0,\"ticks\":\"\"},\"colorscale\":[[0.0,\"#0d0887\"],[0.1111111111111111,\"#46039f\"],[0.2222222222222222,\"#7201a8\"],[0.3333333333333333,\"#9c179e\"],[0.4444444444444444,\"#bd3786\"],[0.5555555555555556,\"#d8576b\"],[0.6666666666666666,\"#ed7953\"],[0.7777777777777778,\"#fb9f3a\"],[0.8888888888888888,\"#fdca26\"],[1.0,\"#f0f921\"]]}],\"choropleth\":[{\"type\":\"choropleth\",\"colorbar\":{\"outlinewidth\":0,\"ticks\":\"\"}}],\"histogram2d\":[{\"type\":\"histogram2d\",\"colorbar\":{\"outlinewidth\":0,\"ticks\":\"\"},\"colorscale\":[[0.0,\"#0d0887\"],[0.1111111111111111,\"#46039f\"],[0.2222222222222222,\"#7201a8\"],[0.3333333333333333,\"#9c179e\"],[0.4444444444444444,\"#bd3786\"],[0.5555555555555556,\"#d8576b\"],[0.6666666666666666,\"#ed7953\"],[0.7777777777777778,\"#fb9f3a\"],[0.8888888888888888,\"#fdca26\"],[1.0,\"#f0f921\"]]}],\"heatmap\":[{\"type\":\"heatmap\",\"colorbar\":{\"outlinewidth\":0,\"ticks\":\"\"},\"colorscale\":[[0.0,\"#0d0887\"],[0.1111111111111111,\"#46039f\"],[0.2222222222222222,\"#7201a8\"],[0.3333333333333333,\"#9c179e\"],[0.4444444444444444,\"#bd3786\"],[0.5555555555555556,\"#d8576b\"],[0.6666666666666666,\"#ed7953\"],[0.7777777777777778,\"#fb9f3a\"],[0.8888888888888888,\"#fdca26\"],[1.0,\"#f0f921\"]]}],\"heatmapgl\":[{\"type\":\"heatmapgl\",\"colorbar\":{\"outlinewidth\":0,\"ticks\":\"\"},\"colorscale\":[[0.0,\"#0d0887\"],[0.1111111111111111,\"#46039f\"],[0.2222222222222222,\"#7201a8\"],[0.3333333333333333,\"#9c179e\"],[0.4444444444444444,\"#bd3786\"],[0.5555555555555556,\"#d8576b\"],[0.6666666666666666,\"#ed7953\"],[0.7777777777777778,\"#fb9f3a\"],[0.8888888888888888,\"#fdca26\"],[1.0,\"#f0f921\"]]}],\"contourcarpet\":[{\"type\":\"contourcarpet\",\"colorbar\":{\"outlinewidth\":0,\"ticks\":\"\"}}],\"contour\":[{\"type\":\"contour\",\"colorbar\":{\"outlinewidth\":0,\"ticks\":\"\"},\"colorscale\":[[0.0,\"#0d0887\"],[0.1111111111111111,\"#46039f\"],[0.2222222222222222,\"#7201a8\"],[0.3333333333333333,\"#9c179e\"],[0.4444444444444444,\"#bd3786\"],[0.5555555555555556,\"#d8576b\"],[0.6666666666666666,\"#ed7953\"],[0.7777777777777778,\"#fb9f3a\"],[0.8888888888888888,\"#fdca26\"],[1.0,\"#f0f921\"]]}],\"surface\":[{\"type\":\"surface\",\"colorbar\":{\"outlinewidth\":0,\"ticks\":\"\"},\"colorscale\":[[0.0,\"#0d0887\"],[0.1111111111111111,\"#46039f\"],[0.2222222222222222,\"#7201a8\"],[0.3333333333333333,\"#9c179e\"],[0.4444444444444444,\"#bd3786\"],[0.5555555555555556,\"#d8576b\"],[0.6666666666666666,\"#ed7953\"],[0.7777777777777778,\"#fb9f3a\"],[0.8888888888888888,\"#fdca26\"],[1.0,\"#f0f921\"]]}],\"mesh3d\":[{\"type\":\"mesh3d\",\"colorbar\":{\"outlinewidth\":0,\"ticks\":\"\"}}],\"scatter\":[{\"fillpattern\":{\"fillmode\":\"overlay\",\"size\":10,\"solidity\":0.2},\"type\":\"scatter\"}],\"parcoords\":[{\"type\":\"parcoords\",\"line\":{\"colorbar\":{\"outlinewidth\":0,\"ticks\":\"\"}}}],\"scatterpolargl\":[{\"type\":\"scatterpolargl\",\"marker\":{\"colorbar\":{\"outlinewidth\":0,\"ticks\":\"\"}}}],\"bar\":[{\"error_x\":{\"color\":\"#2a3f5f\"},\"error_y\":{\"color\":\"#2a3f5f\"},\"marker\":{\"line\":{\"color\":\"#E5ECF6\",\"width\":0.5},\"pattern\":{\"fillmode\":\"overlay\",\"size\":10,\"solidity\":0.2}},\"type\":\"bar\"}],\"scattergeo\":[{\"type\":\"scattergeo\",\"marker\":{\"colorbar\":{\"outlinewidth\":0,\"ticks\":\"\"}}}],\"scatterpolar\":[{\"type\":\"scatterpolar\",\"marker\":{\"colorbar\":{\"outlinewidth\":0,\"ticks\":\"\"}}}],\"histogram\":[{\"marker\":{\"pattern\":{\"fillmode\":\"overlay\",\"size\":10,\"solidity\":0.2}},\"type\":\"histogram\"}],\"scattergl\":[{\"type\":\"scattergl\",\"marker\":{\"colorbar\":{\"outlinewidth\":0,\"ticks\":\"\"}}}],\"scatter3d\":[{\"type\":\"scatter3d\",\"line\":{\"colorbar\":{\"outlinewidth\":0,\"ticks\":\"\"}},\"marker\":{\"colorbar\":{\"outlinewidth\":0,\"ticks\":\"\"}}}],\"scattermapbox\":[{\"type\":\"scattermapbox\",\"marker\":{\"colorbar\":{\"outlinewidth\":0,\"ticks\":\"\"}}}],\"scatterternary\":[{\"type\":\"scatterternary\",\"marker\":{\"colorbar\":{\"outlinewidth\":0,\"ticks\":\"\"}}}],\"scattercarpet\":[{\"type\":\"scattercarpet\",\"marker\":{\"colorbar\":{\"outlinewidth\":0,\"ticks\":\"\"}}}],\"carpet\":[{\"aaxis\":{\"endlinecolor\":\"#2a3f5f\",\"gridcolor\":\"white\",\"linecolor\":\"white\",\"minorgridcolor\":\"white\",\"startlinecolor\":\"#2a3f5f\"},\"baxis\":{\"endlinecolor\":\"#2a3f5f\",\"gridcolor\":\"white\",\"linecolor\":\"white\",\"minorgridcolor\":\"white\",\"startlinecolor\":\"#2a3f5f\"},\"type\":\"carpet\"}],\"table\":[{\"cells\":{\"fill\":{\"color\":\"#EBF0F8\"},\"line\":{\"color\":\"white\"}},\"header\":{\"fill\":{\"color\":\"#C8D4E3\"},\"line\":{\"color\":\"white\"}},\"type\":\"table\"}],\"barpolar\":[{\"marker\":{\"line\":{\"color\":\"#E5ECF6\",\"width\":0.5},\"pattern\":{\"fillmode\":\"overlay\",\"size\":10,\"solidity\":0.2}},\"type\":\"barpolar\"}],\"pie\":[{\"automargin\":true,\"type\":\"pie\"}]},\"layout\":{\"autotypenumbers\":\"strict\",\"colorway\":[\"#636efa\",\"#EF553B\",\"#00cc96\",\"#ab63fa\",\"#FFA15A\",\"#19d3f3\",\"#FF6692\",\"#B6E880\",\"#FF97FF\",\"#FECB52\"],\"font\":{\"color\":\"#2a3f5f\"},\"hovermode\":\"closest\",\"hoverlabel\":{\"align\":\"left\"},\"paper_bgcolor\":\"white\",\"plot_bgcolor\":\"#E5ECF6\",\"polar\":{\"bgcolor\":\"#E5ECF6\",\"angularaxis\":{\"gridcolor\":\"white\",\"linecolor\":\"white\",\"ticks\":\"\"},\"radialaxis\":{\"gridcolor\":\"white\",\"linecolor\":\"white\",\"ticks\":\"\"}},\"ternary\":{\"bgcolor\":\"#E5ECF6\",\"aaxis\":{\"gridcolor\":\"white\",\"linecolor\":\"white\",\"ticks\":\"\"},\"baxis\":{\"gridcolor\":\"white\",\"linecolor\":\"white\",\"ticks\":\"\"},\"caxis\":{\"gridcolor\":\"white\",\"linecolor\":\"white\",\"ticks\":\"\"}},\"coloraxis\":{\"colorbar\":{\"outlinewidth\":0,\"ticks\":\"\"}},\"colorscale\":{\"sequential\":[[0.0,\"#0d0887\"],[0.1111111111111111,\"#46039f\"],[0.2222222222222222,\"#7201a8\"],[0.3333333333333333,\"#9c179e\"],[0.4444444444444444,\"#bd3786\"],[0.5555555555555556,\"#d8576b\"],[0.6666666666666666,\"#ed7953\"],[0.7777777777777778,\"#fb9f3a\"],[0.8888888888888888,\"#fdca26\"],[1.0,\"#f0f921\"]],\"sequentialminus\":[[0.0,\"#0d0887\"],[0.1111111111111111,\"#46039f\"],[0.2222222222222222,\"#7201a8\"],[0.3333333333333333,\"#9c179e\"],[0.4444444444444444,\"#bd3786\"],[0.5555555555555556,\"#d8576b\"],[0.6666666666666666,\"#ed7953\"],[0.7777777777777778,\"#fb9f3a\"],[0.8888888888888888,\"#fdca26\"],[1.0,\"#f0f921\"]],\"diverging\":[[0,\"#8e0152\"],[0.1,\"#c51b7d\"],[0.2,\"#de77ae\"],[0.3,\"#f1b6da\"],[0.4,\"#fde0ef\"],[0.5,\"#f7f7f7\"],[0.6,\"#e6f5d0\"],[0.7,\"#b8e186\"],[0.8,\"#7fbc41\"],[0.9,\"#4d9221\"],[1,\"#276419\"]]},\"xaxis\":{\"gridcolor\":\"white\",\"linecolor\":\"white\",\"ticks\":\"\",\"title\":{\"standoff\":15},\"zerolinecolor\":\"white\",\"automargin\":true,\"zerolinewidth\":2},\"yaxis\":{\"gridcolor\":\"white\",\"linecolor\":\"white\",\"ticks\":\"\",\"title\":{\"standoff\":15},\"zerolinecolor\":\"white\",\"automargin\":true,\"zerolinewidth\":2},\"scene\":{\"xaxis\":{\"backgroundcolor\":\"#E5ECF6\",\"gridcolor\":\"white\",\"linecolor\":\"white\",\"showbackground\":true,\"ticks\":\"\",\"zerolinecolor\":\"white\",\"gridwidth\":2},\"yaxis\":{\"backgroundcolor\":\"#E5ECF6\",\"gridcolor\":\"white\",\"linecolor\":\"white\",\"showbackground\":true,\"ticks\":\"\",\"zerolinecolor\":\"white\",\"gridwidth\":2},\"zaxis\":{\"backgroundcolor\":\"#E5ECF6\",\"gridcolor\":\"white\",\"linecolor\":\"white\",\"showbackground\":true,\"ticks\":\"\",\"zerolinecolor\":\"white\",\"gridwidth\":2}},\"shapedefaults\":{\"line\":{\"color\":\"#2a3f5f\"}},\"annotationdefaults\":{\"arrowcolor\":\"#2a3f5f\",\"arrowhead\":0,\"arrowwidth\":1},\"geo\":{\"bgcolor\":\"white\",\"landcolor\":\"#E5ECF6\",\"subunitcolor\":\"white\",\"showland\":true,\"showlakes\":true,\"lakecolor\":\"white\"},\"title\":{\"x\":0.05},\"mapbox\":{\"style\":\"light\"}}},\"xaxis\":{\"anchor\":\"y\",\"domain\":[0.0,1.0],\"title\":{\"text\":\"DateTime\"},\"tickangle\":-45},\"yaxis\":{\"anchor\":\"x\",\"domain\":[0.0,1.0],\"title\":{\"text\":\"Temperature (\\u00b0C)\"}},\"legend\":{\"tracegroupgap\":0},\"title\":{\"text\":\"Temperature Trend Over Time\"},\"shapes\":[{\"line\":{\"color\":\"red\",\"dash\":\"dash\"},\"type\":\"line\",\"x0\":\"2024-09-19T15:00:00\",\"x1\":\"2024-09-24T12:00:00\",\"y0\":26.77250000000002,\"y1\":26.77250000000002}],\"annotations\":[{\"font\":{\"color\":\"red\"},\"showarrow\":false,\"text\":\"Avg Temp: 26.77\\u00b0C\",\"x\":\"2024-09-24T12:00:00\",\"y\":26.77250000000002}]},                        {\"responsive\": true}                    ).then(function(){\n",
       "                            \n",
       "var gd = document.getElementById('1aea9865-e9f5-4a1f-9d21-ec23df0ebc68');\n",
       "var x = new MutationObserver(function (mutations, observer) {{\n",
       "        var display = window.getComputedStyle(gd).display;\n",
       "        if (!display || display === 'none') {{\n",
       "            console.log([gd, 'removed!']);\n",
       "            Plotly.purge(gd);\n",
       "            observer.disconnect();\n",
       "        }}\n",
       "}});\n",
       "\n",
       "// Listen for the removal of the full notebook cells\n",
       "var notebookContainer = gd.closest('#notebook-container');\n",
       "if (notebookContainer) {{\n",
       "    x.observe(notebookContainer, {childList: true});\n",
       "}}\n",
       "\n",
       "// Listen for the clearing of the current output cell\n",
       "var outputEl = gd.closest('.output');\n",
       "if (outputEl) {{\n",
       "    x.observe(outputEl, {childList: true});\n",
       "}}\n",
       "\n",
       "                        })                };                });            </script>        </div>"
      ]
     },
     "metadata": {},
     "output_type": "display_data"
    }
   ],
   "source": [
    "import plotly.express as px\n",
    "import plotly.graph_objects as go\n",
    "\n",
    "# Calculate the average temperature\n",
    "average_temp = df['Temperature'].mean()\n",
    "\n",
    "# Create an interactive line plot with Plotly\n",
    "fig = px.line(df, x='DateTime', y='Temperature', title='Temperature Trend Over Time')\n",
    "\n",
    "# Add a red line for the average temperature\n",
    "fig.add_shape(\n",
    "    type='line',\n",
    "    x0=df['DateTime'].min(),\n",
    "    x1=df['DateTime'].max(),\n",
    "    y0=average_temp,\n",
    "    y1=average_temp,\n",
    "    line=dict(color='red', dash='dash'),\n",
    ")\n",
    "\n",
    "# Add annotation for the average temperature\n",
    "fig.add_annotation(\n",
    "    x=df['DateTime'].max(),  # Position the annotation on the right\n",
    "    y=average_temp,\n",
    "    text=f\"Avg Temp: {average_temp:.2f}°C\",\n",
    "    showarrow=False,\n",
    "    font=dict(color='red')\n",
    ")\n",
    "\n",
    "# Customize the layout for better visibility\n",
    "fig.update_layout(xaxis_title='DateTime', yaxis_title='Temperature (°C)', xaxis_tickangle=-45)\n",
    "\n",
    "# Show the plot\n",
    "fig.show()"
   ]
  },
  {
   "cell_type": "code",
   "execution_count": 87,
   "id": "4c0809fa-2958-4434-bb8f-c3221a297964",
   "metadata": {},
   "outputs": [
    {
     "data": {
      "image/png": "[encoded data removed]",
      "text/plain": [
       "<Figure size 1200x300 with 2 Axes>"
      ]
     },
     "metadata": {},
     "output_type": "display_data"
    }
   ],
   "source": [
    "import pandas as pd\n",
    "import seaborn as sns\n",
    "import matplotlib.pyplot as plt\n",
    "\n",
    "# Assume df already has the 'DateTime' and 'Temperature' columns\n",
    "df['DateTime'] = pd.to_datetime(df['DateTime'])\n",
    "\n",
    "# Create new columns for the day and hour from 'DateTime'\n",
    "df['Day'] = df['DateTime'].dt.date  # Extract date\n",
    "df['Hour'] = df['DateTime'].dt.hour  # Extract hour\n",
    "\n",
    "# Pivot the DataFrame to create a matrix of days and hours\n",
    "temp_pivot = df.pivot(index='Day', columns='Hour', values='Temperature')\n",
    "\n",
    "# Set the size of the heatmap\n",
    "plt.figure(figsize=(12, 3))\n",
    "\n",
    "# Create the heatmap\n",
    "sns.heatmap(temp_pivot, cmap='YlGnBu', annot=True, fmt='.1f', linewidths=.5, cbar_kws={'label': 'Temperature (°C)'})\n",
    "\n",
    "# Add labels and a title\n",
    "plt.title('Temperature Heatmap (3-Hour Intervals)', fontsize=16)\n",
    "plt.xlabel('Hour of Day', fontsize=10)\n",
    "plt.ylabel('Date', fontsize=10)\n",
    "\n",
    "# Show the heatmap\n",
    "plt.show()\n"
   ]
  },
  {
   "cell_type": "code",
   "execution_count": null,
   "id": "2ba3e857-0f9d-47c4-a36b-abbf6065c159",
   "metadata": {},
   "outputs": [],
   "source": []
  },
  {
   "cell_type": "code",
   "execution_count": null,
   "id": "6d67896d-62d1-496b-8bf3-8cb7cac57913",
   "metadata": {},
   "outputs": [],
   "source": []
  },
  {
   "cell_type": "code",
   "execution_count": null,
   "id": "d312af69-8c7f-40f1-9ba1-2bad2eba2f53",
   "metadata": {},
   "outputs": [],
   "source": []
  }
 ],
 "metadata": {
  "kernelspec": {
   "display_name": "Python 3 (ipykernel)",
   "language": "python",
   "name": "python3"
  },
  "language_info": {
   "codemirror_mode": {
    "name": "ipython",
    "version": 3
   },
   "file_extension": ".py",
   "mimetype": "text/x-python",
   "name": "python",
   "nbconvert_exporter": "python",
   "pygments_lexer": "ipython3",
   "version": "3.11.7"
  }
 },
 "nbformat": 4,
 "nbformat_minor": 5
}
